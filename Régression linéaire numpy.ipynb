{
 "cells": [
  {
   "cell_type": "code",
   "execution_count": 1,
   "metadata": {},
   "outputs": [],
   "source": [
    "import numpy as np\n",
    "from sklearn.datasets import make_regression\n",
    "import matplotlib.pyplot as plt"
   ]
  },
  {
   "cell_type": "markdown",
   "metadata": {},
   "source": [
    "# 1. Dataset"
   ]
  },
  {
   "cell_type": "code",
   "execution_count": 3,
   "metadata": {},
   "outputs": [
    {
     "data": {
      "text/plain": [
       "<matplotlib.collections.PathCollection at 0x1f960dc56a0>"
      ]
     },
     "execution_count": 3,
     "metadata": {},
     "output_type": "execute_result"
    },
    {
     "data": {
      "image/png": "[encoded data removed]",
      "text/plain": [
       "<Figure size 432x288 with 1 Axes>"
      ]
     },
     "metadata": {
      "needs_background": "light"
     },
     "output_type": "display_data"
    }
   ],
   "source": [
    "x, y = make_regression(n_samples = 100, n_features = 1, noise = 10)\n",
    "plt.scatter(x, y)"
   ]
  },
  {
   "cell_type": "code",
   "execution_count": 6,
   "metadata": {},
   "outputs": [
    {
     "name": "stdout",
     "output_type": "stream",
     "text": [
      "(100, 1)\n",
      "(100, 1)\n"
     ]
    }
   ],
   "source": [
    "print(x.shape)\n",
    "y = y.reshape(y.shape[0], 1)\n",
    "print(y.shape)"
   ]
  },
  {
   "cell_type": "code",
   "execution_count": 7,
   "metadata": {},
   "outputs": [
    {
     "data": {
      "text/plain": [
       "array([[-0.69196956,  1.        ],\n",
       "       [ 0.03469322,  1.        ],\n",
       "       [ 0.50322329,  1.        ],\n",
       "       [ 1.02828464,  1.        ],\n",
       "       [-0.42621823,  1.        ],\n",
       "       [ 0.03251438,  1.        ],\n",
       "       [ 0.99521036,  1.        ],\n",
       "       [-0.44432946,  1.        ],\n",
       "       [ 0.84913002,  1.        ],\n",
       "       [-1.43105876,  1.        ],\n",
       "       [ 1.23990901,  1.        ],\n",
       "       [ 1.73715508,  1.        ],\n",
       "       [-1.46603507,  1.        ],\n",
       "       [ 0.15486688,  1.        ],\n",
       "       [ 0.73837252,  1.        ],\n",
       "       [ 2.56782073,  1.        ],\n",
       "       [-0.02060881,  1.        ],\n",
       "       [-1.35825159,  1.        ],\n",
       "       [ 2.58901022,  1.        ],\n",
       "       [ 0.43662875,  1.        ],\n",
       "       [-1.20863612,  1.        ],\n",
       "       [ 0.02093244,  1.        ],\n",
       "       [ 0.45285199,  1.        ],\n",
       "       [ 0.96580714,  1.        ],\n",
       "       [-0.85077281,  1.        ],\n",
       "       [-0.94169484,  1.        ],\n",
       "       [-1.14553877,  1.        ],\n",
       "       [-2.21893653,  1.        ],\n",
       "       [-0.45462528,  1.        ],\n",
       "       [ 0.04978311,  1.        ],\n",
       "       [-0.40354601,  1.        ],\n",
       "       [-1.2154214 ,  1.        ],\n",
       "       [ 1.38201379,  1.        ],\n",
       "       [-0.81034837,  1.        ],\n",
       "       [ 1.6862828 ,  1.        ],\n",
       "       [ 0.39204606,  1.        ],\n",
       "       [-1.21341825,  1.        ],\n",
       "       [ 0.32299987,  1.        ],\n",
       "       [ 1.03684097,  1.        ],\n",
       "       [-0.15385579,  1.        ],\n",
       "       [ 0.4360277 ,  1.        ],\n",
       "       [-0.35862609,  1.        ],\n",
       "       [ 1.53724152,  1.        ],\n",
       "       [ 0.14481017,  1.        ],\n",
       "       [-0.43079175,  1.        ],\n",
       "       [-1.24439244,  1.        ],\n",
       "       [-1.17760167,  1.        ],\n",
       "       [ 0.05081452,  1.        ],\n",
       "       [-0.83119276,  1.        ],\n",
       "       [-0.00886203,  1.        ],\n",
       "       [-0.13162318,  1.        ],\n",
       "       [ 0.47356041,  1.        ],\n",
       "       [ 0.40205818,  1.        ],\n",
       "       [-0.57293683,  1.        ],\n",
       "       [ 0.88115712,  1.        ],\n",
       "       [-0.73064263,  1.        ],\n",
       "       [ 0.82717974,  1.        ],\n",
       "       [ 0.10037094,  1.        ],\n",
       "       [ 0.69375994,  1.        ],\n",
       "       [-0.27425762,  1.        ],\n",
       "       [ 0.4285443 ,  1.        ],\n",
       "       [-0.14452775,  1.        ],\n",
       "       [-0.20262227,  1.        ],\n",
       "       [-0.54487124,  1.        ],\n",
       "       [ 0.48416076,  1.        ],\n",
       "       [-0.66563234,  1.        ],\n",
       "       [-0.49144045,  1.        ],\n",
       "       [-0.4859622 ,  1.        ],\n",
       "       [-2.13884071,  1.        ],\n",
       "       [ 0.95743362,  1.        ],\n",
       "       [-1.01158998,  1.        ],\n",
       "       [ 1.10930897,  1.        ],\n",
       "       [-1.1996518 ,  1.        ],\n",
       "       [ 0.43629813,  1.        ],\n",
       "       [-0.53548532,  1.        ],\n",
       "       [-0.3127933 ,  1.        ],\n",
       "       [-1.55694874,  1.        ],\n",
       "       [-0.39013067,  1.        ],\n",
       "       [-0.77781271,  1.        ],\n",
       "       [ 1.81386915,  1.        ],\n",
       "       [ 0.34621859,  1.        ],\n",
       "       [ 0.48222968,  1.        ],\n",
       "       [ 0.57945141,  1.        ],\n",
       "       [-1.51536144,  1.        ],\n",
       "       [ 0.83293994,  1.        ],\n",
       "       [-0.81298277,  1.        ],\n",
       "       [ 1.4922556 ,  1.        ],\n",
       "       [ 0.50336203,  1.        ],\n",
       "       [ 0.05205165,  1.        ],\n",
       "       [ 0.96665758,  1.        ],\n",
       "       [ 1.52561508,  1.        ],\n",
       "       [-0.34538075,  1.        ],\n",
       "       [ 0.12899313,  1.        ],\n",
       "       [ 0.23131732,  1.        ],\n",
       "       [-1.40109812,  1.        ],\n",
       "       [-1.77829086,  1.        ],\n",
       "       [-1.40832808,  1.        ],\n",
       "       [ 0.09592693,  1.        ],\n",
       "       [-1.25496866,  1.        ],\n",
       "       [ 0.34812849,  1.        ]])"
      ]
     },
     "execution_count": 7,
     "metadata": {},
     "output_type": "execute_result"
    }
   ],
   "source": [
    "# matrice X\n",
    "X = np.hstack((x, np.ones(x.shape)))\n",
    "X"
   ]
  },
  {
   "cell_type": "code",
   "execution_count": 8,
   "metadata": {},
   "outputs": [
    {
     "data": {
      "text/plain": [
       "array([[-0.56908001],\n",
       "       [-0.12328312]])"
      ]
     },
     "execution_count": 8,
     "metadata": {},
     "output_type": "execute_result"
    }
   ],
   "source": [
    "theta = np.random.randn(2,1)\n",
    "theta"
   ]
  },
  {
   "cell_type": "markdown",
   "metadata": {},
   "source": [
    "# 2. Modèle linéaire"
   ]
  },
  {
   "cell_type": "code",
   "execution_count": 10,
   "metadata": {},
   "outputs": [],
   "source": [
    "def model(X, theta):\n",
    "    return X.dot(theta)"
   ]
  },
  {
   "cell_type": "code",
   "execution_count": 13,
   "metadata": {},
   "outputs": [
    {
     "data": {
      "text/plain": [
       "[<matplotlib.lines.Line2D at 0x1f960ed1f40>]"
      ]
     },
     "execution_count": 13,
     "metadata": {},
     "output_type": "execute_result"
    },
    {
     "data": {
      "image/png": "[encoded data removed]",
      "text/plain": [
       "<Figure size 432x288 with 1 Axes>"
      ]
     },
     "metadata": {
      "needs_background": "light"
     },
     "output_type": "display_data"
    }
   ],
   "source": [
    "plt.plot(x, model(X, theta))"
   ]
  },
  {
   "cell_type": "markdown",
   "metadata": {},
   "source": [
    "# 3. Fonction coût"
   ]
  },
  {
   "cell_type": "code",
   "execution_count": 14,
   "metadata": {},
   "outputs": [],
   "source": [
    "def cost_function(X, y, theta):\n",
    "    m = len(y)\n",
    "    return 1/(2*m) * np.sum((model(X, theta) - y)**2)"
   ]
  },
  {
   "cell_type": "code",
   "execution_count": 15,
   "metadata": {},
   "outputs": [
    {
     "data": {
      "text/plain": [
       "2839.053595832277"
      ]
     },
     "execution_count": 15,
     "metadata": {},
     "output_type": "execute_result"
    }
   ],
   "source": [
    "cost_function(X, y, theta)"
   ]
  },
  {
   "cell_type": "markdown",
   "metadata": {},
   "source": [
    "# 4. Descente de gradient"
   ]
  },
  {
   "cell_type": "code",
   "execution_count": 17,
   "metadata": {},
   "outputs": [],
   "source": [
    "def grad(X, y, theta):\n",
    "    m = len(y)\n",
    "    return 1/m * X.T.dot(model(X, theta) - y)"
   ]
  },
  {
   "cell_type": "code",
   "execution_count": 31,
   "metadata": {},
   "outputs": [],
   "source": [
    "def gradient_descent(X, y, theta, learning_rate, n_iterations):\n",
    "    cost_history = np.zeros(n_iterations)\n",
    "    for i in range(0, n_iterations):\n",
    "        theta = theta - learning_rate * grad(X, y, theta)\n",
    "        cost_history[i] = cost_function(X, y, theta)\n",
    "    return theta, cost_history"
   ]
  },
  {
   "cell_type": "markdown",
   "metadata": {},
   "source": [
    "# 5. Entrainement du modèle"
   ]
  },
  {
   "cell_type": "code",
   "execution_count": 33,
   "metadata": {},
   "outputs": [],
   "source": [
    "theta_final, cost_history = gradient_descent(X, y, theta, learning_rate = 0.01, n_iterations = 1000)"
   ]
  },
  {
   "cell_type": "code",
   "execution_count": 34,
   "metadata": {},
   "outputs": [
    {
     "data": {
      "text/plain": [
       "array([[75.68248572],\n",
       "       [-1.10916111]])"
      ]
     },
     "execution_count": 34,
     "metadata": {},
     "output_type": "execute_result"
    }
   ],
   "source": [
    "theta_final"
   ]
  },
  {
   "cell_type": "code",
   "execution_count": 35,
   "metadata": {},
   "outputs": [
    {
     "data": {
      "text/plain": [
       "[<matplotlib.lines.Line2D at 0x1f963ab9790>]"
      ]
     },
     "execution_count": 35,
     "metadata": {},
     "output_type": "execute_result"
    },
    {
     "data": {
      "image/png": "[encoded data removed]",
      "text/plain": [
       "<Figure size 432x288 with 1 Axes>"
      ]
     },
     "metadata": {
      "needs_background": "light"
     },
     "output_type": "display_data"
    }
   ],
   "source": [
    "predictions = model(X, theta_final)\n",
    "plt.scatter(x, y)\n",
    "plt.plot(x, predictions, c='r')"
   ]
  },
  {
   "cell_type": "markdown",
   "metadata": {},
   "source": [
    "# 6. Courbe d'apprentissage"
   ]
  },
  {
   "cell_type": "code",
   "execution_count": 36,
   "metadata": {},
   "outputs": [
    {
     "data": {
      "text/plain": [
       "[<matplotlib.lines.Line2D at 0x1f962f00670>]"
      ]
     },
     "execution_count": 36,
     "metadata": {},
     "output_type": "execute_result"
    },
    {
     "data": {
      "image/png": "[encoded data removed]",
      "text/plain": [
       "<Figure size 432x288 with 1 Axes>"
      ]
     },
     "metadata": {
      "needs_background": "light"
     },
     "output_type": "display_data"
    }
   ],
   "source": [
    "plt.plot(range(1000), cost_history)"
   ]
  },
  {
   "cell_type": "markdown",
   "metadata": {},
   "source": [
    "# 7. Coefficient de détermination"
   ]
  },
  {
   "cell_type": "code",
   "execution_count": 39,
   "metadata": {},
   "outputs": [],
   "source": [
    "def coef_determination(y, pred): \n",
    "    u = ((y - pred)**2).sum()\n",
    "    v = ((y - y.mean())**2).sum()\n",
    "    return 1 - u/v"
   ]
  },
  {
   "cell_type": "code",
   "execution_count": 40,
   "metadata": {},
   "outputs": [
    {
     "data": {
      "text/plain": [
       "0.9829342113460382"
      ]
     },
     "execution_count": 40,
     "metadata": {},
     "output_type": "execute_result"
    }
   ],
   "source": [
    "coef_determination(y, predictions)"
   ]
  },
  {
   "cell_type": "code",
   "execution_count": null,
   "metadata": {},
   "outputs": [],
   "source": []
  }
 ],
 "metadata": {
  "kernelspec": {
   "display_name": "Python 3",
   "language": "python",
   "name": "python3"
  },
  "language_info": {
   "codemirror_mode": {
    "name": "ipython",
    "version": 3
   },
   "file_extension": ".py",
   "mimetype": "text/x-python",
   "name": "python",
   "nbconvert_exporter": "python",
   "pygments_lexer": "ipython3",
   "version": "3.8.3"
  }
 },
 "nbformat": 4,
 "nbformat_minor": 4
}
